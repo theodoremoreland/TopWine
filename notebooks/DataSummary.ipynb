{
 "cells": [
  {
   "cell_type": "code",
   "execution_count": 4,
   "metadata": {},
   "outputs": [],
   "source": [
    "import pandas as pd"
   ]
  },
  {
   "cell_type": "code",
   "execution_count": 22,
   "metadata": {},
   "outputs": [
    {
     "data": {
      "text/html": [
       "<div>\n",
       "<style scoped>\n",
       "    .dataframe tbody tr th:only-of-type {\n",
       "        vertical-align: middle;\n",
       "    }\n",
       "\n",
       "    .dataframe tbody tr th {\n",
       "        vertical-align: top;\n",
       "    }\n",
       "\n",
       "    .dataframe thead th {\n",
       "        text-align: right;\n",
       "    }\n",
       "</style>\n",
       "<table border=\"1\" class=\"dataframe\">\n",
       "  <thead>\n",
       "    <tr style=\"text-align: right;\">\n",
       "      <th></th>\n",
       "      <th>id</th>\n",
       "      <th>X1</th>\n",
       "      <th>country</th>\n",
       "      <th>description</th>\n",
       "      <th>designation</th>\n",
       "      <th>points</th>\n",
       "      <th>price</th>\n",
       "      <th>province</th>\n",
       "      <th>region_1</th>\n",
       "      <th>region_2</th>\n",
       "      <th>taster_name</th>\n",
       "      <th>taster_twitter_handle</th>\n",
       "      <th>title</th>\n",
       "      <th>variety</th>\n",
       "      <th>winery</th>\n",
       "    </tr>\n",
       "  </thead>\n",
       "  <tbody>\n",
       "    <tr>\n",
       "      <th>0</th>\n",
       "      <td>1</td>\n",
       "      <td>4</td>\n",
       "      <td>US</td>\n",
       "      <td>Much like the regular bottling from 2012, this...</td>\n",
       "      <td>Vintner's Reserve Wild Child Block</td>\n",
       "      <td>87</td>\n",
       "      <td>65</td>\n",
       "      <td>Oregon</td>\n",
       "      <td>Willamette Valley</td>\n",
       "      <td>Willamette Valley</td>\n",
       "      <td>Paul Gregutt</td>\n",
       "      <td>@paulgwine</td>\n",
       "      <td>Sweet Cheeks 2012 Vintner's Reserve Wild Child...</td>\n",
       "      <td>Pinot Noir</td>\n",
       "      <td>Sweet Cheeks</td>\n",
       "    </tr>\n",
       "  </tbody>\n",
       "</table>\n",
       "</div>"
      ],
      "text/plain": [
       "   id  X1 country                                        description  \\\n",
       "0   1   4      US  Much like the regular bottling from 2012, this...   \n",
       "\n",
       "                          designation  points  price province  \\\n",
       "0  Vintner's Reserve Wild Child Block      87     65   Oregon   \n",
       "\n",
       "            region_1           region_2   taster_name taster_twitter_handle  \\\n",
       "0  Willamette Valley  Willamette Valley  Paul Gregutt           @paulgwine    \n",
       "\n",
       "                                               title     variety        winery  \n",
       "0  Sweet Cheeks 2012 Vintner's Reserve Wild Child...  Pinot Noir  Sweet Cheeks  "
      ]
     },
     "execution_count": 22,
     "metadata": {},
     "output_type": "execute_result"
    }
   ],
   "source": [
    "Top10 = pd.read_csv (r'../resources/WineTop10.csv')\n",
    "Top10.head(1)"
   ]
  },
  {
   "cell_type": "code",
   "execution_count": 25,
   "metadata": {},
   "outputs": [
    {
     "data": {
      "text/plain": [
       "16961"
      ]
     },
     "execution_count": 25,
     "metadata": {},
     "output_type": "execute_result"
    }
   ],
   "source": [
    "#Rows of data\n",
    "Top10['id'].nunique()"
   ]
  },
  {
   "cell_type": "code",
   "execution_count": 16,
   "metadata": {},
   "outputs": [
    {
     "data": {
      "text/plain": [
       "2555"
      ]
     },
     "execution_count": 16,
     "metadata": {},
     "output_type": "execute_result"
    }
   ],
   "source": [
    "#Number of wineries\n",
    "Top10['winery'].nunique()"
   ]
  },
  {
   "cell_type": "code",
   "execution_count": 23,
   "metadata": {},
   "outputs": [
    {
     "data": {
      "text/plain": [
       "10"
      ]
     },
     "execution_count": 23,
     "metadata": {},
     "output_type": "execute_result"
    }
   ],
   "source": [
    "#Number of varieties\n",
    "Top10['variety'].nunique()"
   ]
  },
  {
   "cell_type": "code",
   "execution_count": 15,
   "metadata": {},
   "outputs": [
    {
     "data": {
      "text/plain": [
       "10"
      ]
     },
     "execution_count": 15,
     "metadata": {},
     "output_type": "execute_result"
    }
   ],
   "source": [
    "#Number of critics\n",
    "Top10[\"taster_twitter_handle\"].nunique()"
   ]
  },
  {
   "cell_type": "code",
   "execution_count": 18,
   "metadata": {},
   "outputs": [
    {
     "data": {
      "text/plain": [
       "89.7681150875538"
      ]
     },
     "execution_count": 18,
     "metadata": {},
     "output_type": "execute_result"
    }
   ],
   "source": [
    "#Average rating across the country\n",
    "Top10[\"points\"].agg(\"mean\")"
   ]
  },
  {
   "cell_type": "code",
   "execution_count": 19,
   "metadata": {},
   "outputs": [
    {
     "data": {
      "text/plain": [
       "45.068569070219915"
      ]
     },
     "execution_count": 19,
     "metadata": {},
     "output_type": "execute_result"
    }
   ],
   "source": [
    "#Average price across the country\n",
    "Top10[\"price\"].agg(\"mean\")"
   ]
  },
  {
   "cell_type": "code",
   "execution_count": 24,
   "metadata": {},
   "outputs": [
    {
     "data": {
      "text/html": [
       "<div>\n",
       "<style scoped>\n",
       "    .dataframe tbody tr th:only-of-type {\n",
       "        vertical-align: middle;\n",
       "    }\n",
       "\n",
       "    .dataframe tbody tr th {\n",
       "        vertical-align: top;\n",
       "    }\n",
       "\n",
       "    .dataframe thead th {\n",
       "        text-align: right;\n",
       "    }\n",
       "</style>\n",
       "<table border=\"1\" class=\"dataframe\">\n",
       "  <thead>\n",
       "    <tr style=\"text-align: right;\">\n",
       "      <th></th>\n",
       "      <th>id</th>\n",
       "      <th>province</th>\n",
       "      <th>avg_price</th>\n",
       "      <th>avg_score</th>\n",
       "      <th>Latitude</th>\n",
       "      <th>Longitude</th>\n",
       "    </tr>\n",
       "  </thead>\n",
       "  <tbody>\n",
       "    <tr>\n",
       "      <th>0</th>\n",
       "      <td>1</td>\n",
       "      <td>Arizona</td>\n",
       "      <td>29.200000</td>\n",
       "      <td>84.926829</td>\n",
       "      <td>34.168219</td>\n",
       "      <td>-111.930907</td>\n",
       "    </tr>\n",
       "    <tr>\n",
       "      <th>1</th>\n",
       "      <td>2</td>\n",
       "      <td>California</td>\n",
       "      <td>39.041048</td>\n",
       "      <td>88.627776</td>\n",
       "      <td>37.271875</td>\n",
       "      <td>-119.270415</td>\n",
       "    </tr>\n",
       "    <tr>\n",
       "      <th>2</th>\n",
       "      <td>3</td>\n",
       "      <td>Colorado</td>\n",
       "      <td>32.985294</td>\n",
       "      <td>86.117647</td>\n",
       "      <td>38.997934</td>\n",
       "      <td>-105.550567</td>\n",
       "    </tr>\n",
       "    <tr>\n",
       "      <th>3</th>\n",
       "      <td>4</td>\n",
       "      <td>Connecticut</td>\n",
       "      <td>15.333333</td>\n",
       "      <td>84.000000</td>\n",
       "      <td>41.518784</td>\n",
       "      <td>-72.757507</td>\n",
       "    </tr>\n",
       "    <tr>\n",
       "      <th>4</th>\n",
       "      <td>5</td>\n",
       "      <td>Hawaii</td>\n",
       "      <td>28.000000</td>\n",
       "      <td>87.000000</td>\n",
       "      <td>20.460000</td>\n",
       "      <td>-157.505000</td>\n",
       "    </tr>\n",
       "    <tr>\n",
       "      <th>5</th>\n",
       "      <td>6</td>\n",
       "      <td>Idaho</td>\n",
       "      <td>20.768421</td>\n",
       "      <td>86.598958</td>\n",
       "      <td>45.494576</td>\n",
       "      <td>-114.142430</td>\n",
       "    </tr>\n",
       "    <tr>\n",
       "      <th>6</th>\n",
       "      <td>7</td>\n",
       "      <td>Illinois</td>\n",
       "      <td>32.333333</td>\n",
       "      <td>84.500000</td>\n",
       "      <td>39.739318</td>\n",
       "      <td>-89.504139</td>\n",
       "    </tr>\n",
       "    <tr>\n",
       "      <th>7</th>\n",
       "      <td>8</td>\n",
       "      <td>Iowa</td>\n",
       "      <td>15.500000</td>\n",
       "      <td>83.000000</td>\n",
       "      <td>41.938317</td>\n",
       "      <td>-93.389798</td>\n",
       "    </tr>\n",
       "    <tr>\n",
       "      <th>8</th>\n",
       "      <td>9</td>\n",
       "      <td>Kentucky</td>\n",
       "      <td>35.000000</td>\n",
       "      <td>83.000000</td>\n",
       "      <td>37.822294</td>\n",
       "      <td>-85.768240</td>\n",
       "    </tr>\n",
       "    <tr>\n",
       "      <th>9</th>\n",
       "      <td>10</td>\n",
       "      <td>Massachusetts</td>\n",
       "      <td>21.285714</td>\n",
       "      <td>84.857143</td>\n",
       "      <td>42.062940</td>\n",
       "      <td>-71.718067</td>\n",
       "    </tr>\n",
       "    <tr>\n",
       "      <th>10</th>\n",
       "      <td>11</td>\n",
       "      <td>Michigan</td>\n",
       "      <td>32.432432</td>\n",
       "      <td>86.105263</td>\n",
       "      <td>44.943560</td>\n",
       "      <td>-86.415805</td>\n",
       "    </tr>\n",
       "    <tr>\n",
       "      <th>11</th>\n",
       "      <td>12</td>\n",
       "      <td>Missouri</td>\n",
       "      <td>17.333333</td>\n",
       "      <td>83.333333</td>\n",
       "      <td>38.304662</td>\n",
       "      <td>-92.437099</td>\n",
       "    </tr>\n",
       "    <tr>\n",
       "      <th>12</th>\n",
       "      <td>13</td>\n",
       "      <td>Nevada</td>\n",
       "      <td>37.750000</td>\n",
       "      <td>84.250000</td>\n",
       "      <td>38.502032</td>\n",
       "      <td>-117.023060</td>\n",
       "    </tr>\n",
       "    <tr>\n",
       "      <th>13</th>\n",
       "      <td>14</td>\n",
       "      <td>New Jersey</td>\n",
       "      <td>25.500000</td>\n",
       "      <td>84.000000</td>\n",
       "      <td>40.143006</td>\n",
       "      <td>-74.731116</td>\n",
       "    </tr>\n",
       "    <tr>\n",
       "      <th>14</th>\n",
       "      <td>15</td>\n",
       "      <td>New Mexico</td>\n",
       "      <td>22.422222</td>\n",
       "      <td>83.955556</td>\n",
       "      <td>34.166232</td>\n",
       "      <td>-106.026069</td>\n",
       "    </tr>\n",
       "    <tr>\n",
       "      <th>15</th>\n",
       "      <td>16</td>\n",
       "      <td>New York</td>\n",
       "      <td>22.826233</td>\n",
       "      <td>87.178571</td>\n",
       "      <td>40.705626</td>\n",
       "      <td>-73.979680</td>\n",
       "    </tr>\n",
       "    <tr>\n",
       "      <th>16</th>\n",
       "      <td>17</td>\n",
       "      <td>North Carolina</td>\n",
       "      <td>21.000000</td>\n",
       "      <td>84.565217</td>\n",
       "      <td>35.214563</td>\n",
       "      <td>-79.891267</td>\n",
       "    </tr>\n",
       "    <tr>\n",
       "      <th>17</th>\n",
       "      <td>18</td>\n",
       "      <td>Ohio</td>\n",
       "      <td>13.750000</td>\n",
       "      <td>84.083333</td>\n",
       "      <td>40.190362</td>\n",
       "      <td>-82.669252</td>\n",
       "    </tr>\n",
       "    <tr>\n",
       "      <th>18</th>\n",
       "      <td>19</td>\n",
       "      <td>Oregon</td>\n",
       "      <td>36.545064</td>\n",
       "      <td>89.051926</td>\n",
       "      <td>44.141905</td>\n",
       "      <td>-120.538099</td>\n",
       "    </tr>\n",
       "    <tr>\n",
       "      <th>19</th>\n",
       "      <td>20</td>\n",
       "      <td>Pennsylvania</td>\n",
       "      <td>23.333333</td>\n",
       "      <td>84.555556</td>\n",
       "      <td>40.994593</td>\n",
       "      <td>-77.604698</td>\n",
       "    </tr>\n",
       "    <tr>\n",
       "      <th>20</th>\n",
       "      <td>21</td>\n",
       "      <td>Rhode Island</td>\n",
       "      <td>25.000000</td>\n",
       "      <td>90.000000</td>\n",
       "      <td>41.582728</td>\n",
       "      <td>-71.506451</td>\n",
       "    </tr>\n",
       "    <tr>\n",
       "      <th>21</th>\n",
       "      <td>22</td>\n",
       "      <td>Texas</td>\n",
       "      <td>25.602151</td>\n",
       "      <td>85.212766</td>\n",
       "      <td>31.169336</td>\n",
       "      <td>-100.076842</td>\n",
       "    </tr>\n",
       "    <tr>\n",
       "      <th>22</th>\n",
       "      <td>23</td>\n",
       "      <td>Vermont</td>\n",
       "      <td>31.666667</td>\n",
       "      <td>84.333333</td>\n",
       "      <td>43.871755</td>\n",
       "      <td>-72.447783</td>\n",
       "    </tr>\n",
       "    <tr>\n",
       "      <th>23</th>\n",
       "      <td>24</td>\n",
       "      <td>Virginia</td>\n",
       "      <td>27.012987</td>\n",
       "      <td>85.611326</td>\n",
       "      <td>38.003386</td>\n",
       "      <td>-79.458786</td>\n",
       "    </tr>\n",
       "    <tr>\n",
       "      <th>24</th>\n",
       "      <td>25</td>\n",
       "      <td>Washington</td>\n",
       "      <td>32.436444</td>\n",
       "      <td>88.947216</td>\n",
       "      <td>38.899349</td>\n",
       "      <td>-77.014567</td>\n",
       "    </tr>\n",
       "  </tbody>\n",
       "</table>\n",
       "</div>"
      ],
      "text/plain": [
       "    id        province  avg_price  avg_score   Latitude   Longitude\n",
       "0    1         Arizona  29.200000  84.926829  34.168219 -111.930907\n",
       "1    2      California  39.041048  88.627776  37.271875 -119.270415\n",
       "2    3        Colorado  32.985294  86.117647  38.997934 -105.550567\n",
       "3    4     Connecticut  15.333333  84.000000  41.518784  -72.757507\n",
       "4    5          Hawaii  28.000000  87.000000  20.460000 -157.505000\n",
       "5    6           Idaho  20.768421  86.598958  45.494576 -114.142430\n",
       "6    7        Illinois  32.333333  84.500000  39.739318  -89.504139\n",
       "7    8            Iowa  15.500000  83.000000  41.938317  -93.389798\n",
       "8    9        Kentucky  35.000000  83.000000  37.822294  -85.768240\n",
       "9   10   Massachusetts  21.285714  84.857143  42.062940  -71.718067\n",
       "10  11        Michigan  32.432432  86.105263  44.943560  -86.415805\n",
       "11  12        Missouri  17.333333  83.333333  38.304662  -92.437099\n",
       "12  13          Nevada  37.750000  84.250000  38.502032 -117.023060\n",
       "13  14      New Jersey  25.500000  84.000000  40.143006  -74.731116\n",
       "14  15      New Mexico  22.422222  83.955556  34.166232 -106.026069\n",
       "15  16        New York  22.826233  87.178571  40.705626  -73.979680\n",
       "16  17  North Carolina  21.000000  84.565217  35.214563  -79.891267\n",
       "17  18            Ohio  13.750000  84.083333  40.190362  -82.669252\n",
       "18  19          Oregon  36.545064  89.051926  44.141905 -120.538099\n",
       "19  20    Pennsylvania  23.333333  84.555556  40.994593  -77.604698\n",
       "20  21    Rhode Island  25.000000  90.000000  41.582728  -71.506451\n",
       "21  22           Texas  25.602151  85.212766  31.169336 -100.076842\n",
       "22  23         Vermont  31.666667  84.333333  43.871755  -72.447783\n",
       "23  24        Virginia  27.012987  85.611326  38.003386  -79.458786\n",
       "24  25      Washington  32.436444  88.947216  38.899349  -77.014567"
      ]
     },
     "execution_count": 24,
     "metadata": {},
     "output_type": "execute_result"
    }
   ],
   "source": [
    "States = pd.read_csv (r'Wine_by_State2.csv')\n",
    "#Number of states in the dataset\n",
    "States"
   ]
  }
 ],
 "metadata": {
  "kernelspec": {
   "display_name": "Python 3",
   "language": "python",
   "name": "python3"
  },
  "language_info": {
   "codemirror_mode": {
    "name": "ipython",
    "version": 3
   },
   "file_extension": ".py",
   "mimetype": "text/x-python",
   "name": "python",
   "nbconvert_exporter": "python",
   "pygments_lexer": "ipython3",
   "version": "3.6.7"
  }
 },
 "nbformat": 4,
 "nbformat_minor": 2
}
